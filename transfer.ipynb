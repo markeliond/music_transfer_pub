{
 "cells": [
  {
   "cell_type": "markdown",
   "metadata": {},
   "source": [
    "# Automating Music Transfers Between YouTube and Spotify\n",
    "\n",
    "Recently, my partner and I decided to rationalize our music subscriptions. She had been using Spotify, and I was on YouTube Music. Spotify's family program looked like it would work perfectly for us, but it meant I would lose all my playlists and favorite songs on YouTube. \n",
    "\n",
    "Naturally, I wanted to transfer my playlists over from YouTube to Spotify.\n",
    "\n",
    "A quick Google search showed there were a number of tools that could do this, but they all required me to grant quite permissive access to my accounts to a third-party tool that I wasn't completely sure of the provenance of. So, I decided to investigate how hard it would be to do it myself. \n",
    "\n",
    "Wonderfully, both Spotify and YouTube Music have excellent API access available, and it's pretty straightforward to set up developer-style access to your account. Below are the steps you can take to try this yourself!"
   ]
  },
  {
   "cell_type": "markdown",
   "metadata": {},
   "source": [
    "## Setting Up the Environment\n",
    "\n",
    "First things first, I needed to set up my development environment. I created a virtual environment to keep things organized and installed the necessary Python packages.\n",
    "\n",
    "You should run the following in the shell you use for your development environment.\n",
    "\n",
    "Here’s how I set it up:\n",
    "\n",
    "Create a Virtual Environment:\n",
    "\n",
    "```sh\n",
    "python -m venv myenv\n",
    "```\n",
    "\n",
    "This command creates a virtual environment named myenv.\n",
    "\n",
    "Activate the Virtual Environment:\n",
    "\n",
    "On macOS/Linux:\n",
    "```sh\n",
    "source myenv/bin/activate\n",
    "```\n",
    "\n",
    "Install Required Packages:\n",
    "\n",
    "```sh\n",
    "pip install spotipy python-dotenv google-api-python-client google-auth google-auth-oauthlib google-auth-httplib2\n",
    "```\n",
    "\n",
    "This command installs all the necessary libraries you'll need for interacting with the Spotify and YouTube APIs."
   ]
  },
  {
   "cell_type": "markdown",
   "metadata": {},
   "source": [
    "## Authentication with APIs\n",
    "To interact with both YouTube and Spotify, I needed to authenticate my application with their APIs.  Both services have developer consoles to generate credentials to authorise your application via OAuth flows."
   ]
  },
  {
   "cell_type": "markdown",
   "metadata": {},
   "source": [
    "### Spotify Authentication\n",
    "\n",
    "I used Spotipy for Spotify API authentication. Spotipy makes it easy to interact with the Spotify API in Python.\n",
    "\n",
    "#### Setting Up Spotify API Credentials\n",
    "\n",
    "1. **Sign Up for a Spotify Developer Account**:\n",
    "    - Go to the [Spotify Developer Dashboard](https://developer.spotify.com/dashboard/login).\n",
    "    - Log in with your Spotify account. If you don’t have one, you’ll need to create one.\n",
    "\n",
    "2. **Create a New Application**:\n",
    "    - Once logged in, click on the \"Create an App\" button.\n",
    "    - Fill in the required details, such as App name and App description. These can be anything you like.\n",
    "    - After filling in the details, click \"Create\".\n",
    "\n",
    "3. **Get Your Client ID and Client Secret**:\n",
    "    - After creating the app, you will be redirected to your app's dashboard.\n",
    "    - Here, you’ll see your Client ID and Client Secret. Click on \"Show Client Secret\" to view it.\n",
    "\n",
    "4. **Set Up Redirect URI**:\n",
    "    - In your app's dashboard, scroll down to the \"Redirect URIs\" section.\n",
    "    - Click on \"Edit Settings\".\n",
    "    - Add `http://localhost:8888/callback` as a Redirect URI.\n",
    "    - Click \"Add\" and then \"Save\".\n",
    "\n",
    "5. **Create a `.env` File**:\n",
    "    Create a file named `.env` in your project directory and add your Spotify API credentials:\n",
    "    ```\n",
    "    SPOTIFY_CLIENT_ID=your_spotify_client_id\n",
    "    SPOTIFY_CLIENT_SECRET=your_spotify_client_secret\n",
    "    SPOTIFY_REDIRECT_URI=http://localhost:8888/callback\n",
    "    ```\n",
    "\n",
    "6. **Load Environment Variables and Authenticate**:\n",
    "\n",
    "The code below loads your Spotify credentials from the `.env` file and authenticates your application with the Spotify API."
   ]
  },
  {
   "cell_type": "code",
   "execution_count": null,
   "metadata": {},
   "outputs": [],
   "source": [
    "import spotipy\n",
    "from spotipy.oauth2 import SpotifyOAuth\n",
    "from dotenv import load_dotenv\n",
    "import os\n",
    "\n",
    "# Load environment variables from .env file\n",
    "load_dotenv()\n",
    "\n",
    "SPOTIFY_CLIENT_ID = os.getenv('SPOTIFY_CLIENT_ID')\n",
    "SPOTIFY_CLIENT_SECRET = os.getenv('SPOTIFY_CLIENT_SECRET')\n",
    "SPOTIFY_REDIRECT_URI = os.getenv('SPOTIFY_REDIRECT_URI')\n",
    "\n",
    "sp = spotipy.Spotify(auth_manager=SpotifyOAuth(\n",
    "    client_id=SPOTIFY_CLIENT_ID,\n",
    "    client_secret=SPOTIFY_CLIENT_SECRET,\n",
    "    redirect_uri=SPOTIFY_REDIRECT_URI,\n",
    "    scope='playlist-read-private playlist-modify-public playlist-modify-private'\n",
    "))"
   ]
  },
  {
   "cell_type": "markdown",
   "metadata": {},
   "source": [
    "### YouTube Authentication\n",
    "For YouTube, I used the Google API Client library. This library helps you interact with Google APIs using Python.\n",
    "\n",
    "#### Download Credentials:\n",
    "\n",
    "- Go to the Google Cloud Console.\n",
    "- Create a new project and enable the YouTube Data API v3.\n",
    "- Create OAuth 2.0 credentials and download the client_secret.json file.\n",
    "\n",
    "#### Authenticate and Build the Service:\n",
    "\n",
    "This function handles the authentication process, allowing you to interact with the YouTube API."
   ]
  },
  {
   "cell_type": "code",
   "execution_count": null,
   "metadata": {},
   "outputs": [],
   "source": [
    "from google_auth_oauthlib.flow import InstalledAppFlow\n",
    "from googleapiclient.discovery import build\n",
    "from google.auth.transport.requests import Request\n",
    "import pickle\n",
    "import os\n",
    "\n",
    "# Define the scope for YouTube - we are only reading existing info, so need the readonly scope\n",
    "YOUTUBE_SCOPES = ['https://www.googleapis.com/auth/youtube.readonly']\n",
    "\n",
    "def get_authenticated_service():\n",
    "    creds = None\n",
    "    token_path = 'token.pickle'\n",
    "\n",
    "    # Load existing credentials from file if available\n",
    "    if os.path.exists(token_path):\n",
    "        with open(token_path, 'rb') as token:\n",
    "            creds = pickle.load(token)\n",
    "\n",
    "    # If there are no valid credentials available, request new ones\n",
    "    if not creds or not creds.valid:\n",
    "        if creds and creds.expired and creds.refresh_token:\n",
    "            creds.refresh(Request())\n",
    "        else:\n",
    "            flow = InstalledAppFlow.from_client_secrets_file(\n",
    "                'client_secret.json', YOUTUBE_SCOPES, redirect_uri='http://localhost:8888/'\n",
    "            )\n",
    "            creds = flow.run_local_server(port=8888)\n",
    "        \n",
    "        # Save the credentials for future use\n",
    "        with open(token_path, 'wb') as token:\n",
    "            pickle.dump(creds, token)\n",
    "\n",
    "    return build('youtube', 'v3', credentials=creds)\n",
    "\n",
    "youtube = get_authenticated_service()"
   ]
  },
  {
   "cell_type": "markdown",
   "metadata": {},
   "source": [
    "## Fetching Liked Songs from YouTube\n",
    "\n",
    "YouTube has a special playlist for your liked songs, which is not listed as a standard playlist. This playlist is identified by the ID `LL`. Here’s how I fetched my liked songs:\n",
    "\n",
    "1. **Define a Function to Fetch Liked Songs**:"
   ]
  },
  {
   "cell_type": "code",
   "execution_count": null,
   "metadata": {},
   "outputs": [],
   "source": [
    "def fetch_liked_songs(youtube):\n",
    "    songs = []\n",
    "    request = youtube.playlistItems().list(\n",
    "        part=\"snippet,contentDetails\",\n",
    "        playlistId='LL',\n",
    "        maxResults=50\n",
    "    )\n",
    "    while request is not None:\n",
    "        response = request.execute()\n",
    "        songs.extend(response.get('items', []))\n",
    "        request = youtube.playlistItems().list_next(request, response)\n",
    "    return songs\n",
    "\n",
    "liked_songs = fetch_liked_songs(youtube)"
   ]
  },
  {
   "cell_type": "markdown",
   "metadata": {},
   "source": [
    "2. **Print the Liked Songs**:\n",
    "\n",
    "This code retrieves and prints the details of your liked songs from YouTube."
   ]
  },
  {
   "cell_type": "code",
   "execution_count": null,
   "metadata": {},
   "outputs": [],
   "source": [
    "for song in liked_songs:\n",
    "    print(f\"Title: {song['snippet']['title']}, Video ID: {song['snippet']['resourceId']['videoId']}\")"
   ]
  },
  {
   "cell_type": "markdown",
   "metadata": {},
   "source": [
    "## Fetching Standard Playlists from YouTube\n",
    "\n",
    "In addition to your liked songs, you might have created several playlists on YouTube. Here’s how to fetch these playlists:\n",
    "\n",
    "1. **Define a Function to Fetch Playlists**:"
   ]
  },
  {
   "cell_type": "code",
   "execution_count": null,
   "metadata": {},
   "outputs": [],
   "source": [
    "def fetch_playlists(youtube):\n",
    "    playlists = []\n",
    "    request = youtube.playlists().list(\n",
    "        part=\"snippet,contentDetails\",\n",
    "        mine=True,\n",
    "        maxResults=50\n",
    "    )\n",
    "    while request is not None:\n",
    "        response = request.execute()\n",
    "        playlists.extend(response.get('items', []))\n",
    "        request = youtube.playlists().list_next(request, response)\n",
    "    return playlists\n",
    "\n",
    "playlists = fetch_playlists(youtube)"
   ]
  },
  {
   "cell_type": "markdown",
   "metadata": {},
   "source": [
    "2. **Print the Playlists**:\n",
    "\n",
    "This code retrieves and prints the details of your playlists from YouTube."
   ]
  },
  {
   "cell_type": "code",
   "execution_count": null,
   "metadata": {},
   "outputs": [],
   "source": [
    "for playlist in playlists:\n",
    "    print(f\"Playlist: {playlist['snippet']['title']}, Playlist ID: {playlist['id']}\")"
   ]
  },
  {
   "cell_type": "markdown",
   "metadata": {},
   "source": [
    "3. **Fetch Songs from a Specific Playlist**:"
   ]
  },
  {
   "cell_type": "code",
   "execution_count": null,
   "metadata": {},
   "outputs": [],
   "source": [
    "def fetch_songs_from_playlist(youtube, playlist_id):\n",
    "    songs = []\n",
    "    request = youtube.playlistItems().list(\n",
    "        part=\"snippet,contentDetails\",\n",
    "        playlistId=playlist_id,\n",
    "        maxResults=50\n",
    "    )\n",
    "    while request is not None:\n",
    "        response = request.execute()\n",
    "        songs.extend(response.get('items', []))\n",
    "        request = youtube.playlistItems().list_next(request, response)\n",
    "    return songs"
   ]
  },
  {
   "cell_type": "markdown",
   "metadata": {},
   "source": [
    "## Creating Playlists on Spotify\n",
    "\n",
    "With the liked songs and playlists fetched, the next step was to create a playlist on Spotify and add these tracks.\n",
    "\n",
    "### Create a Playlist\n",
    "\n",
    "1. **Define a Function to Create a New Playlist**:"
   ]
  },
  {
   "cell_type": "code",
   "execution_count": null,
   "metadata": {},
   "outputs": [],
   "source": [
    "def create_spotify_playlist(sp, playlist_name, description=\"\"):\n",
    "    user_id = sp.current_user()['id']\n",
    "    playlist = sp.user_playlist_create(user=user_id, name=playlist_name, public=True, description=description)\n",
    "    return playlist\n"
   ]
  },
  {
   "cell_type": "code",
   "execution_count": null,
   "metadata": {},
   "outputs": [],
   "source": [
    "# Example usage\n",
    "playlist_name = \"My New Playlist\"\n",
    "description = \"A new playlist created via Spotipy\"\n",
    "new_playlist = create_spotify_playlist(sp, playlist_name, description)\n",
    "\n",
    "print(f\"Created playlist: {new_playlist['name']} with ID: {new_playlist['id']}\")"
   ]
  },
  {
   "cell_type": "markdown",
   "metadata": {},
   "source": [
    "### Add Tracks to Playlist\n",
    "\n",
    "To add tracks to the playlist, I wrote a function to search for the track on Spotify and handle errors gracefully:\n",
    "\n",
    "\n",
    "1. **Define a Function to Search for a Track**:"
   ]
  },
  {
   "cell_type": "code",
   "execution_count": null,
   "metadata": {},
   "outputs": [],
   "source": [
    "def search_track(track_name, artist_name):\n",
    "    query = f'track:{track_name} artist:{artist_name}'\n",
    "    result = sp.search(q=query, type='track', limit=1)\n",
    "    \n",
    "    if result['tracks']['items']:\n",
    "        track = result['tracks']['items'][0]\n",
    "        track_info = {\n",
    "            'name': track['name'],\n",
    "            'artist': track['artists'][0]['name'],\n",
    "            'album': track['album']['name'],\n",
    "            'release_date': track['album']['release_date'],\n",
    "            'uri': track['uri']\n",
    "        }\n",
    "        return track_info\n",
    "    else:\n",
    "        return None"
   ]
  },
  {
   "cell_type": "markdown",
   "metadata": {},
   "source": [
    "### Batch Adding Tracks with Error Handling\n",
    "\n",
    "To avoid hitting API rate limits, I batched the requests and handled any errors that occurred:\n",
    "\n",
    "1. **Define a Function to Add Tracks in Batches**:"
   ]
  },
  {
   "cell_type": "code",
   "execution_count": null,
   "metadata": {},
   "outputs": [],
   "source": [
    "import time\n",
    "\n",
    "def add_tracks_to_playlist(sp, playlist_id, track_uris):\n",
    "    for i in range(0, len(track_uris), 20):  # Batch size of 20\n",
    "        batch = track_uris[i:i + 20]\n",
    "        try:\n",
    "            sp.playlist_add_items(playlist_id, batch)\n",
    "        except Exception as e:\n",
    "            print(f\"Error adding batch: {str(e)}\")\n",
    "        time.sleep(1)  # Wait for 1 second between batches"
   ]
  },
  {
   "cell_type": "markdown",
   "metadata": {},
   "source": [
    "## Wiring Up YouTube and Spotify\n",
    "\n",
    "Now, let's wire up the playlists and songs we found on YouTube and use that to create playlists with songs on Spotify.\n",
    "\n",
    "### Fetch Liked Songs and Create a Playlist on Spotify\n",
    "\n",
    "1. **Fetch Liked Songs**:"
   ]
  },
  {
   "cell_type": "code",
   "execution_count": null,
   "metadata": {},
   "outputs": [],
   "source": [
    "liked_songs = fetch_liked_songs(youtube)"
   ]
  },
  {
   "cell_type": "markdown",
   "metadata": {},
   "source": [
    "2. **Create a New Playlist on Spotify**:"
   ]
  },
  {
   "cell_type": "code",
   "execution_count": null,
   "metadata": {},
   "outputs": [],
   "source": [
    "playlist_name = \"My YouTube Favorites\"\n",
    "description = \"Favorite songs from YouTube, now on Spotify\"\n",
    "new_playlist = create_spotify_playlist(sp, playlist_name, description)"
   ]
  },
  {
   "cell_type": "markdown",
   "metadata": {},
   "source": [
    "3. **Search and Add Songs to Spotify Playlist**:"
   ]
  },
  {
   "cell_type": "code",
   "execution_count": null,
   "metadata": {},
   "outputs": [],
   "source": [
    "track_uris = []\n",
    "for song in liked_songs:\n",
    "    title = song['snippet']['title']\n",
    "    video_id = song['snippet']['resourceId']['videoId']\n",
    "    print(f\"Processing: {title}\")\n",
    "\n",
    "    # Assuming the title format is \"Song Name - Artist Name\"\n",
    "    if \" - \" in title:\n",
    "        song_name, artist_name = title.split(\" - \", 1)\n",
    "        track_info = search_track(song_name, artist_name)\n",
    "        if track_info:\n",
    "            track_uris.append(track_info['uri'])\n",
    "        else:\n",
    "            print(f\"Error: Track not found - {song_name} by {artist_name}\")\n",
    "    else:\n",
    "        print(f\"Skipping: {title} (format not recognized)\")\n",
    "\n",
    "# Add tracks to the new playlist in batches\n",
    "if track_uris:\n",
    "    try:\n",
    "        add_tracks_to_playlist(sp, new_playlist['id'], track_uris)\n",
    "        print(f\"Added {len(track_uris)} tracks to playlist: {new_playlist['name']}\")\n",
    "    except Exception as e:\n",
    "        print(f\"Error adding tracks to playlist: {str(e)}\")\n",
    "else:\n",
    "    print(\"No valid tracks to add to the playlist.\")"
   ]
  },
  {
   "cell_type": "markdown",
   "metadata": {},
   "source": [
    "### Fetch Standard Playlists and Create Corresponding Playlists on Spotify\n",
    "\n",
    "1. **Fetch Standard Playlists**:"
   ]
  },
  {
   "cell_type": "code",
   "execution_count": null,
   "metadata": {},
   "outputs": [],
   "source": [
    "playlists = fetch_playlists(youtube)"
   ]
  },
  {
   "cell_type": "markdown",
   "metadata": {},
   "source": [
    "2. **Create Spotify Playlists from YouTube Playlists**:"
   ]
  },
  {
   "cell_type": "code",
   "execution_count": null,
   "metadata": {},
   "outputs": [],
   "source": [
    "for playlist in playlists:\n",
    "    playlist_name = playlist['snippet']['title']\n",
    "    playlist_id = playlist['id']\n",
    "    print(f\"Processing playlist: {playlist_name}\")\n",
    "\n",
    "    # Create a new playlist on Spotify\n",
    "    new_spotify_playlist = create_spotify_playlist(sp, playlist_name, f\"Playlist from YouTube: {playlist_name}\")\n",
    "\n",
    "    # Fetch songs from the YouTube playlist\n",
    "    songs = fetch_songs_from_playlist(youtube, playlist_id)\n",
    "\n",
    "    # Search and add songs to the Spotify playlist\n",
    "    track_uris = []\n",
    "    for song in songs:\n",
    "        title = song['snippet']['title']\n",
    "        video_id = song['snippet']['resourceId']['videoId']\n",
    "        print(f\"Processing: {title}\")\n",
    "\n",
    "        # Assuming the title format is \"Song Name - Artist Name\"\n",
    "        if \" - \" in title:\n",
    "            song_name, artist_name = title.split(\" - \", 1)\n",
    "            track_info = search_track(song_name, artist_name)\n",
    "            if track_info:\n",
    "                track_uris.append(track_info['uri'])\n",
    "            else:\n",
    "                print(f\"Error: Track not found - {song_name} by {artist_name}\")\n",
    "        else:\n",
    "            print(f\"Skipping: {title} (format not recognized)\")\n",
    "\n",
    "    # Add tracks to the new Spotify playlist in batches\n",
    "    if track_uris:\n",
    "        try:\n",
    "            add_tracks_to_playlist(sp, new_spotify_playlist['id'], track_uris)\n",
    "            print(f\"Added {len(track_uris)} tracks to playlist: {new_spotify_playlist['name']}\")\n",
    "        except Exception as e:\n",
    "            print(f\"Error adding tracks to playlist: {str(e)}\")\n",
    "    else:\n",
    "        print(\"No valid tracks to add to the playlist.\")"
   ]
  },
  {
   "cell_type": "markdown",
   "metadata": {},
   "source": [
    "## Conclusion\n",
    "\n",
    "This project streamlined the process of transferring liked songs and playlists from YouTube to Spotify playlists. By automating the authentication, fetching, and playlist creation steps, I saved a lot of manual effort.\n",
    "\n",
    "By following this guide, anyone can set up a similar music transfer system between YouTube and Spotify. Happy coding!"
   ]
  }
 ],
 "metadata": {
  "language_info": {
   "name": "python"
  }
 },
 "nbformat": 4,
 "nbformat_minor": 2
}
